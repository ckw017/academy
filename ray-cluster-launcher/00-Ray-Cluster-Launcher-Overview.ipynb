{
 "cells": [
  {
   "cell_type": "markdown",
   "metadata": {},
   "source": [
    "# Ray Cluster Launcher - Overview\n",
    "\n",
    "© 2019-2021, Anyscale. All Rights Reserved\n",
    "\n",
    "![Anyscale Academy](../images/AnyscaleAcademyLogo.png)\n",
    "\n",
    "## Join Us at Ray Summit 2021!\n",
    "\n",
    "Join us for the [_free_ Ray Summit 2021 virtual conference](https://www.anyscale.com/ray-summit-2021) on June 22-24, 2021. We have an amazing lineup of luminar keynote speakers and breakout sessions on the Ray ecosystem, third-party Ray libraries, and applications of Ray in the real world.\n",
    "\n",
    "<a href=\"https://www.anyscale.com/ray-summit-2021\">\n",
    "\n",
    "![Ray Summit 2021](../images/raysummit-banner-2021.png)\n",
    "\n",
    "\n",
    "## About This Tutorial\n",
    "\n",
    "> **Note:** This tutorial will be released soon. To see the details for Cluster Launcher, for Ray v0.8.7 and later, see [this documentation](https://docs.ray.io/en/master/cluster/launcher.html).\n",
    ">\n",
    "> In the meantime, [check out this excellent example using AWS](https://github.com/ArdenMa-Intel/ray-aws-example) (free tier). Note that its `requirements.txt` specifies Ray v0.8.6, but it may work with later versions.\n",
    "\n",
    "This tutorial, part of [Anyscale Academy](https://anyscale.com/academy), introduces [Ray Cluster Launcher](https://docs.ray.io/en/latest/), the tool for configuring, launching, and managing Ray clusters, including autoscaling capabilities.\n",
    "\n",
    "See the instructions in the [README](../README.md) for setting up your environment to use this tutorial.\n",
    "\n",
    "Go [here](../Overview.ipynb) for an overview of all tutorials."
   ]
  },
  {
   "cell_type": "markdown",
   "metadata": {},
   "source": [
    "|     | Lesson | Description |\n",
    "| :-- | :----- | :---------- |\n",
    "| 00  | [Ray Cluster Launcher](00-Ray-Cluster-Launcher-Overview.ipynb) | Overview of this tutorial. |"
   ]
  },
  {
   "cell_type": "markdown",
   "metadata": {},
   "source": [
    "## Getting Help\n",
    "\n",
    "* The [#tutorial channel](https://ray-distributed.slack.com/archives/C011ML23W5B) on the [Ray Slack](https://ray-distributed.slack.com). [Click here](https://forms.gle/9TSdDYUgxYs8SA9e8) to join.\n",
    "* [Email](mailto:academy@anyscale.com)\n",
    "\n",
    "Find an issue? Please report it!\n",
    "\n",
    "* [GitHub issues](https://github.com/anyscale/academy/issues)"
   ]
  },
  {
   "cell_type": "markdown",
   "metadata": {},
   "source": [
    "## Give Us Feedback!\n",
    "\n",
    "Let us know what you like and don't like about this tutorial.\n",
    "\n",
    "* TODO"
   ]
  }
 ],
 "metadata": {
  "kernelspec": {
   "display_name": "Python 3",
   "language": "python",
   "name": "python3"
  },
  "language_info": {
   "codemirror_mode": {
    "name": "ipython",
    "version": 3
   },
   "file_extension": ".py",
   "mimetype": "text/x-python",
   "name": "python",
   "nbconvert_exporter": "python",
   "pygments_lexer": "ipython3",
   "version": "3.7.7"
  }
 },
 "nbformat": 4,
 "nbformat_minor": 4
}